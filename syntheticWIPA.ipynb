{
 "cells": [
  {
   "cell_type": "code",
   "execution_count": 91,
   "metadata": {},
   "outputs": [],
   "source": [
    "# in this example, we will demonstrate how optimial transport may be combined with the Gerchberg-Saxton algorithm to solve the phase retrieval problem for a given target beam profile\n",
    "# we will assume a synthetically generate input beam profile defined on a 2d Grid comensurate with the spatial resolution of the SLM\n",
    "# This approximation will not be valid for real conditions, where the SLM itself distorts the beam profile in intensity and phase\n",
    "using SLMTools"
   ]
  },
  {
   "cell_type": "code",
   "execution_count": 92,
   "metadata": {},
   "outputs": [
    {
     "data": {
      "text/plain": [
       "1024"
      ]
     },
     "metadata": {},
     "output_type": "display_data"
    }
   ],
   "source": [
    "# define the SLM grid parameters. these are determined by the SLM itself\n",
    "N_SLM_x = 1024 # number of rows in the SLM \n",
    "N_SLM_y = 1024 # number of columns in the SLM \n",
    "SLM_pixel_size = 17.0 # microns\n",
    "L_SLM_pixels = (1:N_SLM_x,1:N_SLM_y) # the SLM grid, in pixels\n",
    "L_SLM_microns = ((L_SLM_pixels[1] .- N_SLM_x/2).*SLM_pixel_size, (L_SLM_pixels[2] .- N_SLM_y/2).*SLM_pixel_size) # the SLM grid, in microns, centered at the origin\n",
    "\n",
    "# define the target grid parameters, these are dtermined by the camera used to measure the beam profile at the target plane\n",
    "# the camera is assumed to be placed at the focal plane of a lens\n",
    "# for this demonstration, we can imagine a fictional camera with whatever parameters we like\n",
    "N_target_x = 1024 # number of rows in the target grid\n",
    "N_target_y = 1024 # number of columns in the target grid\n",
    "# target_pixel_size = 17.0 # microns\n",
    "# L_target_pixels = (1:N_target_x,1:N_target_y) # the target grid, in pixels\n",
    "# L_target_microns = ((L_target_pixels[1] .- N_target_x / 2) .* target_pixel_size, (L_target_pixels[2] .- N_target_y / 2) .* target_pixel_size) # the target grid, in microns"
   ]
  },
  {
   "cell_type": "code",
   "execution_count": 93,
   "metadata": {},
   "outputs": [
    {
     "name": "stdout",
     "output_type": "stream",
     "text": [
      "(-8687.0:17.0:8704.0, -8687.0:17.0:8704.0)\n",
      "(-3129.4117647058824:6.112132352941177:3123.299632352941, -3129.4117647058824:6.112132352941177:3123.299632352941)\n"
     ]
    },
    {
     "data": {
      "text/html": [
       "<table><tbody><tr><td style='text-align:center;vertical-align:middle; margin: 0.5em;border:1px #90999f solid;border-collapse:collapse'><img style='max-width: 100px; max-height:100px;display:inline' src=\"data:image/png;base64,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\"></td><td style='text-align:center;vertical-align:middle; margin: 0.5em;border:1px #90999f solid;border-collapse:collapse'><img style='max-width: 100px; max-height:100px;display:inline' src=\"data:image/png;base64,iVBORw0KGgoAAAANSUhEUgAAAIEAAACBCAAAAADCy4aMAAAABGdBTUEAALGPC/xhBQAAAAFzUkdCAK7OHOkAAAAgY0hSTQAAeiYAAICEAAD6AAAAgOgAAHUwAADqYAAAOpgAABdwnLpRPAAAAN9JREFUeAHFwaEBgDAQwMCIMEEnZL3uVI1E4xjiRe6kJjWpSU1qUpOa1KQmNalJTWpSk5rUpCY1qUlNalKTmtSkJjWpSU1qUpOa1KQmNalJTWpSk5rUpCY1qUlNalKTmtSkJjWpSU1qUpOa1KQmNalJTWpSk5rMXOv9GJGZde/DiMy8+2FGZr7DkNSkJjWpSU1qUpOa1KQmNalJTWpSk5rUpCY1qUlNalKTmtSkJjWpSU1qUpOa1KQmNalJTWpSk5rUpCY1qUlNalKTmtSkJjWpSU1qUpOa1KQmNalJTWo/H9YKVkrqcJcAAAAASUVORK5C\"></td></tr></tbody></table><div><small>(a vector displayed as a row to save space)</small></div>"
      ],
      "text/plain": [
       "2-element Vector{Matrix{ColorTypes.Gray{Float64}}}:\n",
       " [Gray{Float64}(6.406246864831525e-9) Gray{Float64}(6.646944078272904e-9) … Gray{Float64}(6.406246864831525e-9) Gray{Float64}(6.1738196345740345e-9); Gray{Float64}(6.646944078272904e-9) Gray{Float64}(6.896684831524853e-9) … Gray{Float64}(6.646944078272904e-9) Gray{Float64}(6.405784030215651e-9); … ; Gray{Float64}(6.406246864831525e-9) Gray{Float64}(6.646944078272904e-9) … Gray{Float64}(6.406246864831525e-9) Gray{Float64}(6.1738196345740345e-9); Gray{Float64}(6.1738196345740345e-9) Gray{Float64}(6.405784030215651e-9) … Gray{Float64}(6.1738196345740345e-9) Gray{Float64}(5.949825176032207e-9)]\n",
       " [Gray{Float64}(0.0) Gray{Float64}(0.0) … Gray{Float64}(0.0) Gray{Float64}(0.0); Gray{Float64}(0.0) Gray{Float64}(0.0) … Gray{Float64}(0.0) Gray{Float64}(0.0); … ; Gray{Float64}(0.0) Gray{Float64}(0.0) … Gray{Float64}(0.0) Gray{Float64}(0.0); Gray{Float64}(0.0) Gray{Float64}(0.0) … Gray{Float64}(0.0) Gray{Float64}(0.0)]"
      ]
     },
     "metadata": {},
     "output_type": "display_data"
    }
   ],
   "source": [
    "flambda = 1.064 * 1000 * 100\n",
    "# let's now define the initial beam profile on the SLM. \n",
    "# In real conditions, this would be the beam profile determined by Phase Diversity methods, but for this example, we will assume a synthetically generated beam profile\n",
    "sigma = 2*1000 # in microns\n",
    "input_beam = lfGaussian(Intensity, (1024, 1024), sigma; L=L_SLM_microns, flambda=flambda) # the input beam profile, defined on the SLM grid. the second argument (sz) is unused since we supply the grid directly\n",
    "L_target_microns = dualShiftLattice(input_beam.L, flambda)\n",
    "\n",
    "# let's now define the target beam profile. this is always synthetically generated\n",
    "# note that the target profile is dramatically smaller than the SLM grid and input beam\n",
    "r_ring = 5.0 # microns\n",
    "w_ring = 1.0 # microns\n",
    "# target_beam = lfRing(Intensity, (N_target_x, N_target_y), r_ring, w_ring; L=L_target_microns, flambda=flambda) \n",
    "target_beam = lfGaussian(Intensity, (N_target_x, N_target_y), 20; L=L_target_microns, flambda=flambda)\n",
    "# the target beam profile, defined on the target grid. the second argument (sz) is unused since we supply the grid directly\n",
    "println(input_beam.L)\n",
    "println(target_beam.L)\n",
    "[look(input_beam), look(target_beam)]"
   ]
  },
  {
   "cell_type": "code",
   "execution_count": 104,
   "metadata": {},
   "outputs": [
    {
     "name": "stdout",
     "output_type": "stream",
     "text": [
      "(64, 64)(100, 100)\n"
     ]
    },
    {
     "data": {
      "text/html": [
       "<table><tbody><tr><td style='text-align:center;vertical-align:middle; margin: 0.5em;border:1px #90999f solid;border-collapse:collapse'><img style='max-width: 100px; max-height:100px;display:inline' src=\"data:image/png;base64,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\"></td><td style='text-align:center;vertical-align:middle; margin: 0.5em;border:1px #90999f solid;border-collapse:collapse'><img style='max-width: 100px; max-height:100px;display:inline' src=\"data:image/png;base64,iVBORw0KGgoAAAANSUhEUgAAAGQAAABkCAAAAABVicqIAAAABGdBTUEAALGPC/xhBQAAAAFzUkdCAK7OHOkAAAAgY0hSTQAAeiYAAICEAAD6AAAAgOgAAHUwAADqYAAAOpgAABdwnLpRPAAAAfpJREFUaAW9wc1u01AUhdHv2LsmGGgHqAwqFUa8/0MhVYhMaKK6ieN7Dz/iAU4Y7LWEgTAQBsJAGAgDYSAMhIEwEAbCQBgIA2EgDISBMBAGwkAYCANhIAyEgTAQBsJAGAgDYSAMhIEwEAbCQBgIA2EgrhP8lVxDXCMI/knqRF0Qf0D+BkmVKAtiGIYxIrP13jOSIlEVDMOoGyly2y5b6z2SGlEWg6Y3b3fT0NfT63ndMikSRRHDOM0fbm/nsS2Hw5HMTlIiqmLQmw8fP93fTevz/obWeiY1oiYihpu3t5++PN7vTvuZy/my9SCpEFUxand7//j1YV6eWI7HZWwUiaoITfPd/cPndy/8/D5PiqBIlEUM47Sb371n3k3jEEGVKMvsbT0tL7wsp7X1TKpEVea2Ls/7J+blaf+8rFsmRaIq23Y67Gd+7k77b/vDaWtJkahJsl9eDzcs36f1ef/j8HrpmUmJqMq+nY9cjvPYlsPheN56UiSKkt5W2vk4DX09vZ7X1jOpEWXZt2yXRZHbdtlaT6pEVUbP7NsYkdl670lSJMoysmdvAfkHSZWoS8jgrySpE9dI/kmuIa6T/AdhIAyEgTAQBsJAGAgDYSAMhIEwEAbCQBgIA2EgDISBMBAGwkAYCANhIAyEgTAQBsJAGAgDYSAMhIEwEAa/AL842Rg2z5SjAAAAAElFTkSuQmCC\"></td></tr></tbody></table><div><small>(a vector displayed as a row to save space)</small></div>"
      ],
      "text/plain": [
       "2-element Vector{Matrix{ColorTypes.Gray{Float64}}}:\n",
       " [Gray{Float64}(1.1145878874495595e-8) Gray{Float64}(1.9764113165829927e-8) … Gray{Float64}(1.9079411596685666e-8) Gray{Float64}(1.0747313559158306e-8); Gray{Float64}(1.976411316582993e-8) Gray{Float64}(3.5046152360901975e-8) … Gray{Float64}(3.3832024749273866e-8) Gray{Float64}(1.905736853985644e-8); … ; Gray{Float64}(1.9079411596685666e-8) Gray{Float64}(3.3832024749273866e-8) … Gray{Float64}(3.265995898346934e-8) Gray{Float64}(1.8397151203843648e-8); Gray{Float64}(1.0747313559158306e-8) Gray{Float64}(1.905736853985644e-8) … Gray{Float64}(1.8397151203843645e-8) Gray{Float64}(1.0363000534948388e-8)]\n",
       " [Gray{Float64}(3.955739693648484e-102) Gray{Float64}(4.02719442203172e-100) … Gray{Float64}(3.734361691172793e-98) Gray{Float64}(4.02719442203172e-100); Gray{Float64}(4.02719442203172e-100) Gray{Float64}(4.099939876955174e-98) … Gray{Float64}(3.801817545448534e-96) Gray{Float64}(4.099939876955174e-98); … ; Gray{Float64}(3.734361691172793e-98) Gray{Float64}(3.801817545448534e-96) … Gray{Float64}(3.525372830494985e-94) Gray{Float64}(3.801817545448534e-96); Gray{Float64}(4.02719442203172e-100) Gray{Float64}(4.099939876955174e-98) … Gray{Float64}(3.801817545448534e-96) Gray{Float64}(4.099939876955174e-98)]"
      ]
     },
     "metadata": {},
     "output_type": "display_data"
    }
   ],
   "source": [
    "# now we have our input and desired output, and we have dualuated the target beam profile, we can now proceed to generating the phase mask\n",
    "# our first step is to get the initial guess for the required phase profile on the SLM using Optimal Transport\n",
    "# this part of the calulation doesn't actually depend on the duality of the two profiles, but the next step does\n",
    "# however, the OT algorithm scales with the *total number of pixels* in the input and output profiles, so we must downsample\n",
    "# the scaling is O(N^4)\n",
    "ds = 16 # downsample factor\n",
    "# OT_input_beam = coarsen(input_beam, ds) # downsample the input beam profile via averaging\n",
    "OT_input_beam = downsample(input_beam, ds) # downsample the input beam profile via averaging\n",
    "hw = 50 # half-width of the target beam profile, in pixels\n",
    "hx = N_target_x÷2 # center of the target beam profile, in pixels\n",
    "hy = N_target_y÷2 # center of the target beam profile, in pixels\n",
    "OT_target_beam = target_beam[hx-hw+1:hx+hw, hy-hw+1:hy+hw] # extract the target beam profile from the center of the target grid\n",
    "println(size(OT_input_beam), size(OT_target_beam))\n",
    "[look(OT_input_beam), look(OT_target_beam)]"
   ]
  },
  {
   "cell_type": "code",
   "execution_count": 133,
   "metadata": {},
   "outputs": [
    {
     "data": {
      "text/html": [
       "<table><tbody><tr><td style='text-align:center;vertical-align:middle; margin: 0.5em;border:1px #90999f solid;border-collapse:collapse'><img style='max-width: 100px; max-height:100px;display:inline' src=\"data:image/png;base64,iVBORw0KGgoAAAANSUhEUgAAAIAAAACACAAAAADmVT4XAAAABGdBTUEAALGPC/xhBQAAAAFzUkdCAK7OHOkAAAAgY0hSTQAAeiYAAICEAAD6AAAAgOgAAHUwAADqYAAAOpgAABdwnLpRPAAAAT1JREFUeAHFwbFJRFEUANH5MGK8ialNWISRvdqGsciabQErgoGiX3hiC3eDOUdiEpOYxCQmMYlJTGISk5jEJCYxiUlMYhKTmMQkJjGJSUxiEpOYxCQmMYlJTGISk5jEJCYxiUlMYhKTmMQkJjGJSUxiEpOYxCQmMYlJTC6wsfFvsZiSmIxtyDVX/PLNzmJGYjK0IQduueGdE2d2FhMSk6GNa2554I4jj3zywWJCYjJ2xQ133HPgiRc2ZiQmY7+8c+TAM2/sLGYkJkOLb0488sQbr3yxmJGYDC12znzyws4XPyxmJCZji50PNhaLxZTE5AKLxaUkJjGJSUxiEpOYxCQmMYlJTGISk5jEJCYxiUlMYhKTmMQkJjGJSUxiEpOYxCQmMYlJTGISk5jEJCYxiUlMYhKTmMQkJjGJSUxif0i1M4bcVgmaAAAAAElFTkSuQmCC\"></td><td style='text-align:center;vertical-align:middle; margin: 0.5em;border:1px #90999f solid;border-collapse:collapse'><img style='max-width: 100px; max-height:100px;display:inline' src=\"data:image/png;base64,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\"></td></tr></tbody></table><div><small>(a vector displayed as a row to save space)</small></div>"
      ],
      "text/plain": [
       "2-element Vector{Matrix{ColorTypes.Gray{Float64}}}:\n",
       " [Gray{Float64}(2.0917760332590724e-16) Gray{Float64}(1.98745428808432e-16) … Gray{Float64}(2.3727638490378356e-16) Gray{Float64}(2.2192690267780218e-16); Gray{Float64}(1.987454280984669e-16) Gray{Float64}(1.888335299657757e-16) … Gray{Float64}(2.2544285748630276e-16) Gray{Float64}(2.1085889006790558e-16); … ; Gray{Float64}(2.37276384757532e-16) Gray{Float64}(2.2544285809191143e-16) … Gray{Float64}(2.6914966915065294e-16) Gray{Float64}(2.51738294132466e-16); Gray{Float64}(2.2192690225965706e-16) Gray{Float64}(2.1085888930469106e-16) … Gray{Float64}(2.5173829351863093e-16) Gray{Float64}(2.3545326652196795e-16)]\n",
       " [Gray{Float64}(0.29341275901823316) Gray{Float64}(0.22055194115690702) … Gray{Float64}(0.29804408642831204) Gray{Float64}(0.37344568790024724); Gray{Float64}(0.2205519411569088) Gray{Float64}(0.1476911232955822) … Gray{Float64}(0.22518326856698723) Gray{Float64}(0.3005848700389233); … ; Gray{Float64}(0.2980440864283116) Gray{Float64}(0.22518326856698767) … Gray{Float64}(0.3026754138383918) Gray{Float64}(0.37807701531032656); Gray{Float64}(0.3734456879002459) Gray{Float64}(0.3005848700389224) … Gray{Float64}(0.3780770153103261) Gray{Float64}(0.45347861678226087)]"
      ]
     },
     "metadata": {},
     "output_type": "display_data"
    }
   ],
   "source": [
    "OT_guess = otPhase(OT_input_beam, OT_target_beam, 0.0013, maxiter = 1000)\n",
    "OT_guess.data ./= (flambda/1)\n",
    "out = sft(sqrt.(OT_input_beam.data) .* exp.(2pi * im * OT_guess.data)) .^ 2 |> nabs;\n",
    "LFout = LatticeField{Intensity}(out, OT_input_beam.L);\n",
    "[look(LFout),look(OT_guess)]"
   ]
  },
  {
   "cell_type": "code",
   "execution_count": 128,
   "metadata": {},
   "outputs": [
    {
     "data": {
      "text/html": [
       "<table><tbody><tr><td style='text-align:center;vertical-align:middle; margin: 0.5em;border:1px #90999f solid;border-collapse:collapse'><img style='max-width: 100px; max-height:100px;display:inline' src=\"data:image/png;base64,iVBORw0KGgoAAAANSUhEUgAAAGgAAABoCAAAAAA4d+p9AAAABGdBTUEAALGPC/xhBQAAAAFzUkdCAK7OHOkAAAAgY0hSTQAAeiYAAICEAAD6AAAAgOgAAHUwAADqYAAAOpgAABdwnLpRPAAAATFJREFUaAW9wTGOTQEAhtHzkk+mpdHahEWo7NU29ITOAkYkihHeJFepm3dH8Z+TkYxkJCMZyUhGMpKRjGQkIxnJSEYykpGMZCQjGclIRjKSkYxkJCMZyUhGMpKRjGQkI3mGCy7+OXA4JyMZyUhOuiDc4QUe8RtXHG7LSEYykhMuCK/wBq/xA99wjysOT8tIRjKSEy64wxu8x1t8wQc84CcOT8tIRjKSk17gNd7iHV7iIz7j4raMZCQjOekRP/AFL/EJ33HF4baMZCQjOeHAb3zDB3zEd3zFLxxuy0hGMpITDlxxjwd8xhW/8AeH2zKSkYzkpANX/MQFBw4czslIRjKSZzhw+D8ZyUhGMpKRjGQkIxnJSEYykpGMZCQjGclIRjKSkYxkJCMZyUhGMpKRjGTkL09RMyVzeb17AAAAAElFTkSuQmCC\"></td><td style='text-align:center;vertical-align:middle; margin: 0.5em;border:1px #90999f solid;border-collapse:collapse'><img style='max-width: 100px; max-height:100px;display:inline' src=\"data:image/png;base64,iVBORw0KGgoAAAANSUhEUgAAAGgAAABoCAAAAAA4d+p9AAAABGdBTUEAALGPC/xhBQAAAAFzUkdCAK7OHOkAAAAgY0hSTQAAeiYAAICEAAD6AAAAgOgAAHUwAADqYAAAOpgAABdwnLpRPAAAAs1JREFUaAW9wV9rFHcUANDz27mbXWqMGA2IFH0U2u//ZfrWQBGJEVw3OPtn5vZhhM1uYioU7jmhSCgSioQioUgoEoqEIuEXNP8tPS0UCUVCkfCEZtJMmofSsfS4UCQUCUXCTzQ0NDQ0zNAcJEYkEmmSHgpFQpFQJDyioaGhQ4cOHWZoSIwYMGDA4CAdC0VCkVAknGhomKFD4AwLnGGOGUbssMUGWzQMGE3SQSgSioQi4Z6GhoYOZ1jiGc5xjiU6DOixxhp36LFFOkiTUCQUCUXCiYYOgSUucIkrvMIF5thhhVvcoDMZkRiQDkKRUCQUCT80NDR0OMMzXOJ3vMc7XGGBDW5wjYXJgD1GjGgmiVAkFAlFwomGDguc4wrv8Sc+4C0W6PERz002+I4eO+wdC0VCkVAk3NMwQ4cznOMV3uED/sAlGva4QOIbbvEFK3SYYUSahCKhSCgSTjTMMMcSF7jCW1xij69Y4gXe4DUusMQcMzTHQpFQJBQJj2iYocMcCyzQ8BX/4CWusMASc3SYoXkoFAlFQpHwiMSIATts0GOPJV7iN4zo0WOHASPSQ6FIKBKKhBOJETv0WOEGH3GBF7jCiBU+4TNW6LHDiHQsFAlFQpFwT2LEgC3WuMU1niPxBgv0+IS/cI1brLHFgBHpIBQJRUKRcCIxYIM1brAw+YbXWKLHZ1zjb9xgjQ0GpGOhSCgSioQf0iQxYIs7dCYb3OICc+ywwi1u8AV32GJAIpEmoUgoEoqEE4kBDb3JgO/4giU6DOixxhp36LHHgHQsFAlFQpFwTzoYsMWIPXqsMMcMI3bYYoMt9hiQSKSDUCQUCUXCiTQZkUiM2KHDDA2JEQMGDBiQSKRjoUgoEoqER6SDASP2mKE5SIxIJBKJ9FAoEoqEIuEn0iTRTEYPpUmapMeFIqFIKBKekI6ln0tPC0VCkVAk/IL0/4UioUgo8i+OjNn5SH+z/QAAAABJRU5ErkJg\"></td></tr></tbody></table><div><small>(a vector displayed as a row to save space)</small></div>"
      ],
      "text/plain": [
       "2-element Vector{Matrix{ColorTypes.Gray{Float64}}}:\n",
       " [Gray{Float64}(4.153806517655416e-15) Gray{Float64}(6.359994386548092e-15) … Gray{Float64}(2.251031449964858e-14) Gray{Float64}(1.4704385574878033e-14); Gray{Float64}(6.3599943865997e-15) Gray{Float64}(9.737942393919761e-15) … Gray{Float64}(3.44660910899827e-14) Gray{Float64}(2.2514243089175228e-14); … ; Gray{Float64}(2.2510314500925722e-14) Gray{Float64}(3.4466091094003134e-14) … Gray{Float64}(1.2198793000766447e-13) Gray{Float64}(7.968602830710269e-14); Gray{Float64}(1.4704385571440262e-14) Gray{Float64}(2.2514243089010704e-14) … Gray{Float64}(7.968602830747071e-14) Gray{Float64}(5.2053208105800623e-14)]\n",
       " [Gray{Float64}(1.982044823656783e-7) Gray{Float64}(6.36982258169841e-7) … Gray{Float64}(1.8645759925209954e-6) Gray{Float64}(6.369822531203901e-7); Gray{Float64}(6.36982258169841e-7) Gray{Float64}(2.047110090396483e-6) … Gray{Float64}(5.992305566080896e-6) Gray{Float64}(2.0471100826651455e-6); … ; Gray{Float64}(1.8645759925209954e-6) Gray{Float64}(5.992305566080896e-6) … Gray{Float64}(1.7540691221842952e-5) Gray{Float64}(5.992305538716904e-6); Gray{Float64}(6.369822531203901e-7) Gray{Float64}(2.0471100826651455e-6) … Gray{Float64}(5.992305538716904e-6) Gray{Float64}(2.047110064790198e-6)]"
      ]
     },
     "metadata": {},
     "output_type": "display_data"
    }
   ],
   "source": [
    "OT_guess_big = upsample(OT_guess, ds)\n",
    "out_big = sft(sqrt.(input_beam.data) .* exp.(2pi * im * OT_guess_big.data)) .^ 2 |> nabs;\n",
    "LFout_big = LatticeField{Intensity}(out_big, target_beam.L);\n",
    "LFdev = LatticeField{Intensity}(abs.(out_big.-target_beam.data), target_beam.L);\n",
    "[look(LFout_big[500:525,500:525]),look(LFdev[500:525,500:525])]"
   ]
  },
  {
   "cell_type": "code",
   "execution_count": 135,
   "metadata": {},
   "outputs": [
    {
     "name": "stderr",
     "output_type": "stream",
     "text": [
      "┌ Warning: Sinkhorn algorithm (1000/1000): not converged\n",
      "└ @ OptimalTransport C:\\Users\\micha\\.julia\\packages\\OptimalTransport\\ztQxB\\src\\entropic\\sinkhorn_solve.jl:103\n"
     ]
    },
    {
     "ename": "ErrorException",
     "evalue": "sinkhorn returned nan.  Try changing epsilon.",
     "output_type": "error",
     "traceback": [
      "sinkhorn returned nan.  Try changing epsilon.\n",
      "\n",
      "Stacktrace:\n",
      " [1] error(s::String)\n",
      "   @ Base .\\error.jl:35\n",
      " [2] otPhase(U::LatticeField{Intensity, Float64, 2}, V::LatticeField{Intensity, Float64, 2}, ε::Float64; options::Base.Pairs{Symbol, Int64, Tuple{Symbol}, NamedTuple{(:maxiter,), Tuple{Int64}}})\n",
      "   @ SLMTools.OTHelpers z:\\home\\Vandy\\code\\julia\\SLMTools\\src\\PhaseDiversity\\OTHelpers.jl:170\n",
      " [3] top-level scope\n",
      "   @ z:\\home\\Vandy\\code\\julia\\SLMTools\\syntheticWIPA.ipynb:1"
     ]
    }
   ],
   "source": [
    "OT_guess = otPhase(OT_input_beam, OT_target_beam, 0.00123, maxiter=1000)\n",
    "OT_guess.data ./= (flambda / 1)\n",
    "out = sft(sqrt.(OT_input_beam.data) .* exp.(2pi * im * OT_guess.data)) .^ 2 |> nabs;\n",
    "LFout = LatticeField{Intensity}(out, OT_input_beam.L);\n",
    "[look(LFout), look(OT_guess)]"
   ]
  }
 ],
 "metadata": {
  "kernelspec": {
   "display_name": "Julia 1.9.4",
   "language": "julia",
   "name": "julia-1.9"
  },
  "language_info": {
   "file_extension": ".jl",
   "mimetype": "application/julia",
   "name": "julia",
   "version": "1.9.4"
  }
 },
 "nbformat": 4,
 "nbformat_minor": 2
}
