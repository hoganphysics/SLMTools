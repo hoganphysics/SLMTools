{
 "cells": [
  {
   "cell_type": "code",
   "execution_count": 1,
   "metadata": {},
   "outputs": [],
   "source": [
    "# in this example, we will demonstrate how optimial transport may be combined with the Gerchberg-Saxton algorithm to solve the phase retrieval problem for a given target beam profile\n",
    "# we will assume a synthetically generate input beam profile defined on a 2d Grid comensurate with the spatial resolution of the SLM\n",
    "# This approximation will not be valid for real conditions, where the SLM itself distorts the beam profile in intensity and phase\n",
    "using SLMTools"
   ]
  },
  {
   "cell_type": "code",
   "execution_count": 3,
   "metadata": {},
   "outputs": [
    {
     "data": {
      "text/plain": [
       "(17.0:17.0:17408.0, 17.0:17.0:17408.0)"
      ]
     },
     "metadata": {},
     "output_type": "display_data"
    }
   ],
   "source": [
    "# define the SLM grid parameters. these are determined by the SLM itself\n",
    "N_SLM_x = 1024 # number of rows in the SLM \n",
    "N_SLM_y = 1024 # number of columns in the SLM \n",
    "SLM_pixel_size = 17.0 # microns\n",
    "L_SLM_pixels = (1:N_SLM_x,1:N_SLM_y) # the SLM grid, in pixels\n",
    "L_SLM_microns = L_SLM_pixels.*SLM_pixel_size # the SLM grid, in microns\n",
    "\n",
    "# define the target grid parameters, these are dtermined by the camera used to measure the beam profile at the target plane\n",
    "# the camera is assumed to be placed at the focal plane of a lens\n",
    "# for this demonstration, we can imagine a fictional camera with whatever parameters we like\n",
    "N_target_x = 500 # number of rows in the target grid\n",
    "N_target_y = 700 # number of columns in the target grid\n",
    "target_pixel_size = 5.2 # microns\n",
    "L_target_pixels = (1:N_target_x,1:N_target_y) # the target grid, in pixels\n",
    "L_target_microns = L_target_pixels.*target_pixel_size # the target grid, in microns"
   ]
  }
 ],
 "metadata": {
  "kernelspec": {
   "display_name": "Julia 1.9.4",
   "language": "julia",
   "name": "julia-1.9"
  },
  "language_info": {
   "file_extension": ".jl",
   "mimetype": "application/julia",
   "name": "julia",
   "version": "1.9.4"
  }
 },
 "nbformat": 4,
 "nbformat_minor": 2
}
