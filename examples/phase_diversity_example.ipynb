{
 "cells": [
  {
   "cell_type": "code",
   "execution_count": null,
   "metadata": {},
   "outputs": [],
   "source": [
    "using SLMTools"
   ]
  },
  {
   "cell_type": "code",
   "execution_count": null,
   "metadata": {},
   "outputs": [],
   "source": [
    "divImgs, divImgNames = getImagesAndFilenames(raw\"./test\", \".bmp\");\n",
    "linImgs, linImgNames = getImagesAndFilenames(raw\"\\\\SRSRV1\\lab\\projects\\PhaseDiversity\\2023-11-28\\LinearPhases 23-11-28\\\\\", \".bmp\");"
   ]
  }
 ],
 "metadata": {
  "kernelspec": {
   "display_name": "Julia 1.9.3",
   "language": "julia",
   "name": "julia-1.9"
  },
  "language_info": {
   "file_extension": ".jl",
   "mimetype": "application/julia",
   "name": "julia",
   "version": "1.9.3"
  }
 },
 "nbformat": 4,
 "nbformat_minor": 2
}
