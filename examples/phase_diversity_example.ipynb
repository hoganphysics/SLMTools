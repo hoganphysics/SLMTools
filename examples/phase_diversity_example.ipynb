{
 "cells": [
  {
   "cell_type": "code",
   "execution_count": 11,
   "metadata": {},
   "outputs": [],
   "source": [
    "using SLMTools, FileIO\n",
    "cd(\"z:\\\\home\\\\Vandy\\\\code\\\\julia\\\\SLMTools\\\\examples\")"
   ]
  },
  {
   "cell_type": "code",
   "execution_count": 12,
   "metadata": {},
   "outputs": [],
   "source": [
    "divImgs, divImgNames = getImagesAndFilenames(\"../test/test_data/test_images_B/OffsetParabolas/\", \".bmp\");\n",
    "linImgs, linImgNames = getImagesAndFilenames(\"../test/test_data/test_images_B/LinearPhases/\", \".bmp\");\n",
    "\n"
   ]
  },
  {
   "cell_type": "code",
   "execution_count": 28,
   "metadata": {},
   "outputs": [
    {
     "ename": "UndefVarError",
     "evalue": "UndefVarError: `getCamGrid` not defined",
     "output_type": "error",
     "traceback": [
      "UndefVarError: `getCamGrid` not defined\n",
      "\n",
      "Stacktrace:\n",
      " [1] top-level scope\n",
      "   @ z:\\home\\Vandy\\code\\julia\\SLMTools\\examples\\phase_diversity_example.ipynb:5"
     ]
    }
   ],
   "source": [
    "x0, xhspan = 1050, 150\n",
    "y0, yhspan = 690, 150\n",
    "roi = ((y0-yhspan):(y0+yhspan), (x0-xhspan):(x0+xhspan))\n",
    "# [d[roi...] for d in divImgs] # display the cropped image, we want the zero order spot to be cropped out, with the first order spot visible\n",
    "camgrid, angle = getCamGrid(linImgs[19:end], [parse(Int, n[1:2]) for n in linImgNames[19:end]], dxcam; roi=roi);"
   ]
  }
 ],
 "metadata": {
  "kernelspec": {
   "display_name": "Julia 1.9.3",
   "language": "julia",
   "name": "julia-1.9"
  },
  "language_info": {
   "file_extension": ".jl",
   "mimetype": "application/julia",
   "name": "julia",
   "version": "1.9.3"
  }
 },
 "nbformat": 4,
 "nbformat_minor": 2
}
