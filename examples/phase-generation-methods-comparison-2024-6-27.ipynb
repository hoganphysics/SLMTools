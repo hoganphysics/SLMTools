{
 "cells": [
  {
   "cell_type": "code",
   "execution_count": 1,
   "id": "3ab495ee-5c9e-4681-b488-b714ddb54064",
   "metadata": {},
   "outputs": [
    {
     "name": "stderr",
     "output_type": "stream",
     "text": [
      "\u001b[32m\u001b[1mPrecompiling\u001b[22m\u001b[39m SLMTools\n",
      "\u001b[36m\u001b[1m        Info\u001b[22m\u001b[39m Given SLMTools was explicitly requested, output will be shown live \u001b[0K\n",
      "\u001b[0KWARNING: import of Interpolations.cubic_spline_interpolation into SLMTools conflicts with an existing identifier; ignored.\n",
      "\u001b[0KWARNING: Method definition ramp(T) where {T<:Number} in module SLMTools at C:\\Users\\stron\\OneDrive\\Desktop\\SLMTools\\src\\LatticeFields\\LatticeFields.jl:219 overwritten at C:\\Users\\stron\\OneDrive\\Desktop\\SLMTools\\src\\IO\\LFTemplates.jl:106.\n",
      "\u001b[0KERROR: Method overwriting is not permitted during Module precompilation. Use `__precompile__(false)` to opt-out of precompilation.\n",
      "\u001b[33m  ? \u001b[39mSLMTools\n",
      "\u001b[36m\u001b[1m[ \u001b[22m\u001b[39m\u001b[36m\u001b[1mInfo: \u001b[22m\u001b[39mPrecompiling SLMTools [f76648cb-5210-489e-a211-dabef911c8c1]\n",
      "WARNING: import of Interpolations.cubic_spline_interpolation into SLMTools conflicts with an existing identifier; ignored.\n",
      "WARNING: Method definition ramp(T) where {T<:Number} in module SLMTools at C:\\Users\\stron\\OneDrive\\Desktop\\SLMTools\\src\\LatticeFields\\LatticeFields.jl:219 overwritten at C:\\Users\\stron\\OneDrive\\Desktop\\SLMTools\\src\\IO\\LFTemplates.jl:106.\n",
      "ERROR: Method overwriting is not permitted during Module precompilation. Use `__precompile__(false)` to opt-out of precompilation.\n",
      "\u001b[36m\u001b[1m[ \u001b[22m\u001b[39m\u001b[36m\u001b[1mInfo: \u001b[22m\u001b[39mSkipping precompilation since __precompile__(false). Importing SLMTools [f76648cb-5210-489e-a211-dabef911c8c1].\n",
      "WARNING: import of Interpolations.cubic_spline_interpolation into SLMTools conflicts with an existing identifier; ignored.\n"
     ]
    },
    {
     "ename": "LoadError",
     "evalue": "LoadError: SystemError: opening file \"C:\\\\Users\\\\stron\\\\OneDrive\\\\Desktop\\\\SLMTools\\\\src\\\\other\\\\Visualization.jl\": No such file or directory\nin expression starting at C:\\Users\\stron\\OneDrive\\Desktop\\SLMTools\\src\\SLMTools.jl:1",
     "output_type": "error",
     "traceback": [
      "LoadError: SystemError: opening file \"C:\\\\Users\\\\stron\\\\OneDrive\\\\Desktop\\\\SLMTools\\\\src\\\\other\\\\Visualization.jl\": No such file or directory\nin expression starting at C:\\Users\\stron\\OneDrive\\Desktop\\SLMTools\\src\\SLMTools.jl:1",
      "",
      "Stacktrace:",
      "  [1] systemerror(p::String, errno::Int32; extrainfo::Nothing)",
      "    @ Base .\\error.jl:176",
      "  [2] systemerror",
      "    @ .\\error.jl:175 [inlined]",
      "  [3] open(fname::String; lock::Bool, read::Nothing, write::Nothing, create::Nothing, truncate::Nothing, append::Nothing)",
      "    @ Base .\\iostream.jl:293",
      "  [4] open",
      "    @ .\\iostream.jl:275 [inlined]",
      "  [5] open(f::Base.var\"#433#434\"{String}, args::String; kwargs::@Kwargs{})",
      "    @ Base .\\io.jl:394",
      "  [6] open",
      "    @ .\\io.jl:393 [inlined]",
      "  [7] read",
      "    @ .\\io.jl:486 [inlined]",
      "  [8] _include(mapexpr::Function, mod::Module, _path::String)",
      "    @ Base .\\loading.jl:2132",
      "  [9] include(mod::Module, _path::String)",
      "    @ Base .\\Base.jl:495",
      " [10] include(x::String)",
      "    @ SLMTools C:\\Users\\stron\\OneDrive\\Desktop\\SLMTools\\src\\SLMTools.jl:1",
      " [11] top-level scope",
      "    @ C:\\Users\\stron\\OneDrive\\Desktop\\SLMTools\\src\\SLMTools.jl:29",
      " [12] include(mod::Module, _path::String)",
      "    @ Base .\\Base.jl:495",
      " [13] _require(pkg::Base.PkgId, env::String)",
      "    @ Base .\\loading.jl:2014",
      " [14] __require_prelocked(uuidkey::Base.PkgId, env::String)",
      "    @ Base .\\loading.jl:1812",
      " [15] #invoke_in_world#3",
      "    @ .\\essentials.jl:926 [inlined]",
      " [16] invoke_in_world",
      "    @ .\\essentials.jl:923 [inlined]",
      " [17] _require_prelocked(uuidkey::Base.PkgId, env::String)",
      "    @ Base .\\loading.jl:1803",
      " [18] macro expansion",
      "    @ .\\loading.jl:1790 [inlined]",
      " [19] macro expansion",
      "    @ .\\lock.jl:267 [inlined]",
      " [20] __require(into::Module, mod::Symbol)",
      "    @ Base .\\loading.jl:1753",
      " [21] #invoke_in_world#3",
      "    @ .\\essentials.jl:926 [inlined]",
      " [22] invoke_in_world",
      "    @ .\\essentials.jl:923 [inlined]",
      " [23] require(into::Module, mod::Symbol)",
      "    @ Base .\\loading.jl:1746"
     ]
    }
   ],
   "source": [
    "using SLMTools, Images, FreeTypeAbstraction, FileIO, Plots\n",
    "using SLMTools: wrap"
   ]
  },
  {
   "cell_type": "code",
   "execution_count": 2,
   "id": "ab818dc2-c27b-4d4c-ad4a-9663630a0d8a",
   "metadata": {
    "jupyter": {
     "source_hidden": true
    }
   },
   "outputs": [
    {
     "ename": "LoadError",
     "evalue": "UndefVarError: `LF` not defined",
     "output_type": "error",
     "traceback": [
      "UndefVarError: `LF` not defined",
      "",
      "Stacktrace:",
      " [1] top-level scope",
      "   @ In[2]:1"
     ]
    }
   ],
   "source": [
    "function mraf(U::LF{Modulus,<:Real,N}, V::LF{Modulus,<:Real,N}, nit::Integer, Φ0::LF{<:Phase,<:Number,N}, roi::CartesianIndices, m::Real) where {N}\n",
    "    # Runs nit number of iterations of MRAF on the distributions specified by U and V.  Φ0 is a starting phase guess.\n",
    "    ldq(U, V), elq(U, Φ0)                              # Check for compatibility of the lattices\n",
    "\n",
    "    U = normalizeLF(U)\n",
    "    V = normalizeLF(V)\n",
    "    guess = U * wrap(Φ0)\n",
    "    R = sqrt(sum(square(sft(guess)).data))      # This compensates non-unitarity of sft.\n",
    "\n",
    "    for i = 1:nit\n",
    "        out = sft(guess)\n",
    "        tar = phasor.(out.data[roi]) .* V.data[roi] * m\n",
    "        out *= (1-m)/R\n",
    "        out.data[roi] = tar\n",
    "        guess = phasor(isft(out)) * U\n",
    "    end\n",
    "    return phasor(guess)\n",
    "end\n",
    "\n",
    "function ftaText(str::String,sz::Tuple{Int,Int}; fnt = \"arial bold\",pixelsize::Union{Int,Nothing}=nothing,halign=:hcenter,valign=:vcenter,options...)\n",
    "    if isnothing(pixelsize)\n",
    "        pixelsize = sz[2] ÷ length(str)\n",
    "    end\n",
    "    face = findfont(fnt)\n",
    "    x0, y0 = sz .÷ 2\n",
    "    arr = zeros(UInt8,sz...)    # Text will go here\n",
    "    renderstring!(arr,str,face,pixelsize, x0, y0; halign=halign, valign=valign, options...)\n",
    "    return convert.(Float64,arr)./255\n",
    "end\n",
    "\n",
    "function plotToImage(p::Plots.Plot)\n",
    "    io = IOBuffer()\n",
    "    show(io, MIME(\"image/png\"), p);\n",
    "    strm = Stream(format\"PNG\", io)\n",
    "    img = load(strm);\n",
    "    return img\n",
    "end\n",
    "\n",
    "function imageToHeatmap(img::Matrix{T};options...) where T<:Union{Number,Gray}\n",
    "    return heatmap(convert.(Float64,img);options...)\n",
    "end\n",
    "\n",
    "function grayAnnotation(text::String,pixelsize::Int,padto::Union{Nothing,Tuple{Int,Int}}=nothing; options...)\n",
    "    a = ftaText(text,(round(Int,pixelsize*2),round(Int,pixelsize*2));pixelsize=pixelsize,options...)\n",
    "    ax = sum(a;dims=2)\n",
    "    ay = sum(a;dims=1)\n",
    "    xl = findfirst(!=(0),ax[:])\n",
    "    xu = findlast(!=(0),ax[:])\n",
    "    yl = findfirst(!=(0),ay[:])\n",
    "    yu = findlast(!=(0),ay[:])\n",
    "    a = convert.(Gray{Float64},a[xl:xu,yl:yu])\n",
    "    if isnothing(padto)\n",
    "        return a\n",
    "    else\n",
    "        if any(padto .< size(a))\n",
    "            error(\"grayAnnotation: Text size exceeds target output size (`padto`).\")\n",
    "        end\n",
    "        output = zeros(Gray{Float64},padto)\n",
    "        output[CartesianIndices(size(a)) .+ CartesianIndex((padto .- size(a)) .÷ 2)] = a\n",
    "        return output\n",
    "    end\n",
    "end\n",
    "\n",
    "function colorPromote(arr::Array{T}) where T<:Matrix\n",
    "    arr2 = copy(arr)\n",
    "    if any(M[1] isa RGB for M in arr)\n",
    "        for i=1:length(arr)\n",
    "            arr2[i] = RGB.(arr[i])\n",
    "        end\n",
    "    end\n",
    "    return arr2\n",
    "end\n",
    "\n",
    "function padout(M::Matrix{T},s::Tuple{Int,Int},fillval=zero(T); shift::Union{Nothing,CartesianIndex}=nothing) where T<:Union{Number,Gray,RGB}\n",
    "    if any(s .< size(M))\n",
    "        error(\"padout: Matrix is bigger than intended padded size.\")\n",
    "    end\n",
    "    output = fill(convert(T,fillval),s)\n",
    "    if isnothing(shift)\n",
    "        shift = CartesianIndex((s .- size(M)) .÷ 2)\n",
    "    end\n",
    "    output[CartesianIndices(size(M)) .+ shift] = M\n",
    "    return output\n",
    "end\n",
    "\n",
    "function padadd(M::Matrix{T},s::Int,side::Symbol,fillval=zero(T)) where T<:Union{Number,Gray,RGB}\n",
    "    CI = CartesianIndices(size(M))\n",
    "    if side in [:l,:L,:left,:Left]\n",
    "        output = fill(convert(T,fillval), size(M) .+ (0,s))\n",
    "        output[CI .+ CartesianIndex(0,s)] = M\n",
    "    elseif side in [:r,:R,:right,:Right]\n",
    "        output = fill(convert(T,fillval), size(M) .+ (0,s))\n",
    "        output[CI] = M\n",
    "    elseif side in [:t,:T,:top,:Top]\n",
    "        output = fill(convert(T,fillval), size(M) .+ (s,0))\n",
    "        output[CI .+ CartesianIndex(s,0)] = M\n",
    "    elseif side in [:b,:B,:bottom,:Bottom]\n",
    "        output = fill(convert(T,fillval), size(M) .+ (s,0))\n",
    "        output[CI] = M\n",
    "    end\n",
    "    return output\n",
    "end\n",
    "\n",
    "function padmultiple(M::Matrix{T}; padleft::Int=0,padright::Int=0,padtop::Int=0,padbottom::Int=0,padall::Int=0,fillval=0) where T<:Union{Number,Gray,RGB}\n",
    "    output = copy(M)\n",
    "    if padleft > 0\n",
    "        output = padadd(output,padleft,:L,fillval)\n",
    "    end\n",
    "    if padright > 0 \n",
    "        output = padadd(output,padright,:R,fillval)\n",
    "    end\n",
    "    if padtop > 0\n",
    "        output = padadd(output,padtop,:T,fillval)\n",
    "    end\n",
    "    if padbottom > 0\n",
    "        output = padadd(output,padbottom,:B,fillval)\n",
    "    end\n",
    "    if padall > 0 \n",
    "        output = padmultiple(output; padleft=padleft,padright=padright,padtop=padtop,padbottom=padbottom, fillval=fillval)\n",
    "    end\n",
    "    return output\n",
    "end\n",
    "\n",
    "function padmultiple(arr::Array{T}; padleft::Int=0,padright::Int=0,padtop::Int=0,padbottom::Int=0,padall::Int=0,fillval=0) where T<:Matrix\n",
    "    output = copy(arr)\n",
    "    for i=1:length(output)\n",
    "        output[i] = padmultiple(output[i]; padleft=padleft,padright=padright,\n",
    "            padtop=padtop,padbottom=padbottom,padall=padall, fillval=fillval)\n",
    "    end\n",
    "    return output\n",
    "end\n",
    "\n",
    "function padCommon(arr::Matrix{T},fillval=nothing) where T<:Matrix\n",
    "    arr = colorPromote(arr)\n",
    "    S = typeof(arr[1][1])\n",
    "    if isnothing(fillval)\n",
    "        fillval = zero(S)\n",
    "    end\n",
    "    n,m = size(arr)\n",
    "    sx = Tuple( maximum(size(arr[j,k],1) for k=1:m) for j=1:n)\n",
    "    sy = Tuple( maximum(size(arr[j,k],2) for j=1:n) for k=1:m)\n",
    "    output = Array{Matrix}(undef,n,m)\n",
    "    for j=1:n\n",
    "        for k=1:m\n",
    "            output[j,k] = padout(arr[j,k],(sx[j],sy[k]),fillval)\n",
    "        end\n",
    "    end\n",
    "    return output\n",
    "end\n",
    "\n",
    "function trimWhitespace(M::Matrix{T}) where T<:Union{Number,Gray,RGB}\n",
    "    n,m = size(M)\n",
    "    Mg = Gray.(M)\n",
    "    tx = Tuple(minimum(Mg[j,:]) for j=1:n)\n",
    "    ty = Tuple(minimum(Mg[:,k]) for k=1:m)\n",
    "    xl = findfirst(!=(1),tx)\n",
    "    xu = findlast(!=(1),tx)\n",
    "    yl = findfirst(!=(1),ty)\n",
    "    yu = findlast(!=(1),ty)\n",
    "    return M[xl:xu,yl:yu]\n",
    "end\n",
    "\n",
    "function arrange(layout::Tuple,Ms...)\n",
    "    output = Array{Matrix}(undef,layout...)\n",
    "    for i=1:length(output)\n",
    "        output[i] = Ms[i]\n",
    "    end\n",
    "    return output\n",
    "end\n",
    "\n",
    "function checkCommonSize(arr::Matrix{T}) where T<:Matrix\n",
    "    n,m = size(arr)\n",
    "    all( all(size(arr[j,k],1) == size(arr[j,1],1) for k=1:m) for j=1:n) &&\n",
    "    all( all(size(arr[j,k],2) == size(arr[1,k],2) for j=1:n) for k=1:m)\n",
    "end\n",
    "function checkCommonSize(arr::Vector{T}) where T<:Matrix\n",
    "    n = length(arr)\n",
    "    all(size(arr[j],2) == size(arr[1],2) for j=1:n)\n",
    "end\n",
    "\n",
    "\n",
    "function mergeStrict(arr::Array{T}; padleft::Int=0,padright::Int=0,padtop::Int=0,padbottom::Int=0,padall::Int=0,fillval=0) where T<:Matrix\n",
    "    a = copy(arr)\n",
    "    layout = size(arr)\n",
    "    if !checkCommonSize(a)\n",
    "        error(\"mergeStrict: Images have incompatible sizes.\")\n",
    "    end\n",
    "    b = colorPromote(a)\n",
    "    b = padmultiple(b;padleft=padleft,padright=padright,padtop=padtop,padbottom=padbottom,padall=padall,fillval=fillval)\n",
    "    return vcat( (hcat(b[j,:]...) for j=1:layout[1])... )\n",
    "end\n",
    "\n",
    "function mergeStrict(layout::Tuple{Int,Int},Ms::Matrix...; padleft::Int=0,padright::Int=0,padtop::Int=0,padbottom::Int=0,padall::Int=0,fillval=0)\n",
    "    a = arrange(layout,Ms...)\n",
    "    if !checkCommonSize(a)\n",
    "        error(\"mergeStrict: Images have incompatible sizes.\")\n",
    "    end\n",
    "    b = colorPromote(a)\n",
    "    b = padmultiple.(b;padleft=padleft,padright=padright,padtop=padtop,padbottom=padbottom,padall=padall,fillval=fillval)\n",
    "    return vcat( (hcat(b[j,:]...) for j=1:layout[1])... )\n",
    "end\n",
    "\n",
    "function mergeFill(arr::Array{T}; padleft::Int=0,padright::Int=0,padtop::Int=0,padbottom::Int=0,padall::Int=0,fillval=0) where T<:Matrix\n",
    "    a = copy(arr)\n",
    "    layout = size(arr)\n",
    "    b = colorPromote(a)\n",
    "    if !checkCommonSize(b)\n",
    "        b = padCommon(b,fillval)\n",
    "    end\n",
    "    b = padmultiple(b;padleft=padleft,padright=padright,padtop=padtop,padbottom=padbottom,padall=padall,fillval=fillval)\n",
    "    return vcat( (hcat(b[j,:]...) for j=1:layout[1])... )\n",
    "end\n",
    "\n",
    "function mergeFill(layout::Tuple{Int,Int},Ms::Matrix...; padleft::Int=0,padright::Int=0,padtop::Int=0,padbottom::Int=0,padall::Int=0,fillval=0)\n",
    "    a = arrange(layout,Ms...)\n",
    "    b = colorPromote(a)\n",
    "    if !checkCommonSize(b)\n",
    "        b = padCommon(b,fillval)\n",
    "    end\n",
    "    b = padmultiple(b;padleft=padleft,padright=padright,padtop=padtop,padbottom=padbottom,padall=padall,fillval=fillval)\n",
    "    return vcat( (hcat(b[j,:]...) for j=1:layout[1])... )\n",
    "end\n",
    "\n",
    "\n",
    "function autoAnnotate(arr::Array{T},pixelsize::Int,padto::Union{Nothing,Tuple{Int,Int}}=nothing; \n",
    "        labelOffset::Int=0, location::Symbol=:topleft, shift::CartesianIndex=CartesianIndex(0,0), options...) where T<:Matrix\n",
    "    labels = Tuple(string('(',Char(i),')') for i in [97:122...,65:90...])[(1:length(arr)) .+ labelOffset]\n",
    "    return handAnnotate(arr,labels,pixelsize,padto;location=location,shift=shift,options...)\n",
    "end\n",
    "\n",
    "function handAnnotate(M::Matrix{T},text::String,pixelsize::Int,padto::Union{Nothing,Tuple{Int,Int}}=nothing; \n",
    "        location::Symbol=:topleft, shift::CartesianIndex=CartesianIndex(0,0), inverta=true, options...) where T<:Union{Number,Gray,RGB}\n",
    "    output = copy(M)\n",
    "    a = grayAnnotation(text,pixelsize,padto; options...)\n",
    "    if inverta\n",
    "        a = 1 .- a\n",
    "    end\n",
    "    if T <: RGB\n",
    "        a = RGB.(a)\n",
    "    end\n",
    "    if location == :topleft\n",
    "        output[CartesianIndices(size(a)) .+ shift] = a\n",
    "    else\n",
    "        println(\"handAnnotate warning: This location is not yet implemented.  No change made.\")\n",
    "    end\n",
    "    return output\n",
    "end\n",
    "\n",
    "function handAnnotate(arr::Array{T},labels::NTuple{N,String},pixelsize::Int,padto::Union{Nothing,Tuple{Int,Int}}=nothing; \n",
    "        location::Symbol=:topleft, shift::CartesianIndex=CartesianIndex(0,0), options...) where {N,T<:Matrix}\n",
    "    output = copy(arr)\n",
    "    for i=1:length(output)\n",
    "        output[i] = handAnnotate(output[i],labels[i],pixelsize,padto; location=location, shift=shift, options...)\n",
    "    end\n",
    "    return output\n",
    "end"
   ]
  },
  {
   "cell_type": "code",
   "execution_count": 3,
   "id": "e7c8605a-dc20-445d-8f55-61d514ce0755",
   "metadata": {},
   "outputs": [
    {
     "ename": "LoadError",
     "evalue": "UndefVarError: `natlat` not defined",
     "output_type": "error",
     "traceback": [
      "UndefVarError: `natlat` not defined",
      "",
      "Stacktrace:",
      " [1] top-level scope",
      "   @ In[3]:2"
     ]
    }
   ],
   "source": [
    "N = 128\n",
    "L0 = natlat((N,N))"
   ]
  },
  {
   "cell_type": "code",
   "execution_count": 4,
   "id": "08274719-f543-4752-b398-a22b8a2f5703",
   "metadata": {},
   "outputs": [
    {
     "ename": "LoadError",
     "evalue": "UndefVarError: `LF` not defined",
     "output_type": "error",
     "traceback": [
      "UndefVarError: `LF` not defined",
      "",
      "Stacktrace:",
      " [1] top-level scope",
      "   @ In[4]:2"
     ]
    }
   ],
   "source": [
    "# Generate input beam\n",
    "I = LF{ComplexAmp}( exp.(-r2(L0) ./ (3 + 0im)^2) , L0 )\n",
    "println(\"Intensity, modulus, phase:\")\n",
    "look(square(I),I)"
   ]
  },
  {
   "cell_type": "code",
   "execution_count": 5,
   "id": "091e406e-471c-49b2-9644-5d273346ba66",
   "metadata": {},
   "outputs": [
    {
     "ename": "LoadError",
     "evalue": "UndefVarError: `I` not defined",
     "output_type": "error",
     "traceback": [
      "UndefVarError: `I` not defined",
      "",
      "Stacktrace:",
      " [1] top-level scope",
      "   @ In[5]:2"
     ]
    }
   ],
   "source": [
    "# Generate target intensity\n",
    "C = lfRect(I|>square,(4,4))*0.1 + lfText(Intensity,\"c\"; lfTemplate=I, pixelsize=150)    # Letter c on low background\n",
    "C = LF{Intensity}(imfilter(C.data, Kernel.gaussian(2)),C.L)                             # Blur the edges slightly\n",
    "look(C)"
   ]
  },
  {
   "cell_type": "code",
   "execution_count": 6,
   "id": "01d37310-ba87-4060-933e-bd979a109ee0",
   "metadata": {},
   "outputs": [
    {
     "ename": "LoadError",
     "evalue": "UndefVarError: `I` not defined",
     "output_type": "error",
     "traceback": [
      "UndefVarError: `I` not defined",
      "",
      "Stacktrace:",
      " [1] top-level scope",
      "   @ In[6]:1"
     ]
    }
   ],
   "source": [
    "Φgs = gs(abs(I),sqrt(C),10000,wrap(LF{RealPhase}(rand(size(C)...),C.L)))    # Generate phase w/ GS + random initialization\n",
    "look(C,square(sft(I * Φgs)))"
   ]
  },
  {
   "cell_type": "code",
   "execution_count": 7,
   "id": "6224765f-4ef5-461c-8127-92218df1b03c",
   "metadata": {},
   "outputs": [
    {
     "ename": "LoadError",
     "evalue": "UndefVarError: `square` not defined",
     "output_type": "error",
     "traceback": [
      "UndefVarError: `square` not defined",
      "",
      "Stacktrace:",
      " [1] top-level scope",
      "   @ In[7]:1"
     ]
    }
   ],
   "source": [
    "Φot = otPhase(square(I),C,0.001)     # Generate phase w/ OT\n",
    "look(C,square(sft(I * Φot)))"
   ]
  },
  {
   "cell_type": "code",
   "execution_count": 8,
   "id": "deb71c06-08fd-495f-8d50-eb04308f1cb1",
   "metadata": {},
   "outputs": [
    {
     "ename": "LoadError",
     "evalue": "UndefVarError: `I` not defined",
     "output_type": "error",
     "traceback": [
      "UndefVarError: `I` not defined",
      "",
      "Stacktrace:",
      " [1] top-level scope",
      "   @ In[8]:1"
     ]
    }
   ],
   "source": [
    "Φotgs = gs(abs(I),sqrt(C),10000,wrap(Φot))    # Generate phase w/ GS + OT initialization\n",
    "look(C,square(sft(I * Φotgs)))"
   ]
  },
  {
   "cell_type": "code",
   "execution_count": 9,
   "id": "04bd431d-2d06-440d-8b1d-9795f6687493",
   "metadata": {},
   "outputs": [
    {
     "ename": "LoadError",
     "evalue": "UndefVarError: `I` not defined",
     "output_type": "error",
     "traceback": [
      "UndefVarError: `I` not defined",
      "",
      "Stacktrace:",
      " [1] top-level scope",
      "   @ In[9]:1"
     ]
    }
   ],
   "source": [
    "Φotmraf = mraf(abs(I),sqrt(C),10000,wrap(Φot),CartesianIndices((17:112,17:112)),0.48)\n",
    "look(C,square(sft(I * Φotmraf)))"
   ]
  },
  {
   "cell_type": "code",
   "execution_count": 10,
   "id": "2ebce183-8509-4138-bafc-b5bbd129b24a",
   "metadata": {},
   "outputs": [
    {
     "ename": "LoadError",
     "evalue": "UndefVarError: `Φgs` not defined",
     "output_type": "error",
     "traceback": [
      "UndefVarError: `Φgs` not defined",
      "",
      "Stacktrace:",
      " [1] top-level scope",
      "   @ .\\In[10]:2"
     ]
    }
   ],
   "source": [
    "# Evaluate RMS error for each phase\n",
    "for Φ in [Φgs,Φot,Φotgs,Φotmraf]\n",
    "    println(SchroffError(C,square(sft(abs(I) * Φ))))\n",
    "end"
   ]
  },
  {
   "cell_type": "code",
   "execution_count": 11,
   "id": "388c6bb6-18d3-4212-845a-a8d0aea0cb3f",
   "metadata": {},
   "outputs": [
    {
     "ename": "LoadError",
     "evalue": "UndefVarError: `Φgs` not defined",
     "output_type": "error",
     "traceback": [
      "UndefVarError: `Φgs` not defined",
      "",
      "Stacktrace:",
      " [1] top-level scope",
      "   @ In[11]:2"
     ]
    }
   ],
   "source": [
    "# Merge images\n",
    "phases = [Φgs,Φot,Φotgs,Φotmraf]\n",
    "outbeams = [square(sft(abs(I) * Φ)) for Φ in phases];\n",
    "anns = handAnnotate(look.([C outbeams... ; square(I) phases...]), \n",
    "    (\"(a)\",\"(f)\",\"(b)\",\"(g)\",\"(c)\",\"(h)\",\"(d)\",\"(i)\",\"(e)\",\"(j)\"),15,(20,20))\n",
    "anns[:,1] = padadd.(anns[:,1],15,:r,1)\n",
    "fig = mergeStrict(anns; padright = 2, padbottom=2, fillval=1)"
   ]
  },
  {
   "cell_type": "code",
   "execution_count": null,
   "id": "059b73a0-64a1-439e-9b8b-c87be2fa0655",
   "metadata": {},
   "outputs": [],
   "source": []
  },
  {
   "cell_type": "code",
   "execution_count": null,
   "id": "b888e382-250f-45c7-988d-2f5d5dd87a5b",
   "metadata": {},
   "outputs": [],
   "source": []
  }
 ],
 "metadata": {
  "kernelspec": {
   "display_name": "Julia 1.10.2",
   "language": "julia",
   "name": "julia-1.10"
  },
  "language_info": {
   "file_extension": ".jl",
   "mimetype": "application/julia",
   "name": "julia",
   "version": "1.10.2"
  }
 },
 "nbformat": 4,
 "nbformat_minor": 5
}
